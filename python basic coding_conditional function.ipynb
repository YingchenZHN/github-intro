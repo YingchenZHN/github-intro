{
 "cells": [
  {
   "cell_type": "code",
   "execution_count": 2,
   "id": "f035db13",
   "metadata": {},
   "outputs": [
    {
     "name": "stdout",
     "output_type": "stream",
     "text": [
      "b79cn10k\n"
     ]
    }
   ],
   "source": [
    "# Lab assignment\n",
    "theater_id = \"b79cn10k\"\n",
    "print(theater_id)"
   ]
  },
  {
   "cell_type": "code",
   "execution_count": 3,
   "id": "581bd8d4",
   "metadata": {},
   "outputs": [
    {
     "name": "stdout",
     "output_type": "stream",
     "text": [
      "Adult\n"
     ]
    }
   ],
   "source": [
    "ticket_type = \"Adult\"\n",
    "print(ticket_type)"
   ]
  },
  {
   "cell_type": "code",
   "execution_count": 4,
   "id": "fe8b7efe",
   "metadata": {},
   "outputs": [
    {
     "data": {
      "text/plain": [
       "float"
      ]
     },
     "execution_count": 4,
     "metadata": {},
     "output_type": "execute_result"
    }
   ],
   "source": [
    "adult_ticket_sold = 59.0\n",
    "type(adult_ticket_sold)"
   ]
  },
  {
   "cell_type": "code",
   "execution_count": 5,
   "id": "24ada184",
   "metadata": {},
   "outputs": [
    {
     "data": {
      "text/plain": [
       "int"
      ]
     },
     "execution_count": 5,
     "metadata": {},
     "output_type": "execute_result"
    }
   ],
   "source": [
    "adult_ticket_sold = int(adult_ticket_sold)\n",
    "type(adult_ticket_sold)"
   ]
  },
  {
   "cell_type": "code",
   "execution_count": 6,
   "id": "96c4c579",
   "metadata": {},
   "outputs": [
    {
     "name": "stdout",
     "output_type": "stream",
     "text": [
      "Good morning! Hope there will be a great Tuesday ahead!\n"
     ]
    }
   ],
   "source": [
    "# fuction\n",
    "print('Good morning! Hope there will be a great Tuesday ahead!')"
   ]
  },
  {
   "cell_type": "code",
   "execution_count": 9,
   "id": "5e4e1236",
   "metadata": {},
   "outputs": [
    {
     "name": "stdout",
     "output_type": "stream",
     "text": [
      "Hi Anna!\n",
      "Welcome to our team!\n"
     ]
    }
   ],
   "source": [
    "def sayhi(name):\n",
    "    print('Hi ' +  name + '!')\n",
    "    print('Welcome to our team!')\n",
    "\n",
    "sayhi('Anna')"
   ]
  },
  {
   "cell_type": "code",
   "execution_count": 11,
   "id": "3a89eb11",
   "metadata": {},
   "outputs": [
    {
     "data": {
      "text/plain": [
       "26.5"
      ]
     },
     "execution_count": 11,
     "metadata": {},
     "output_type": "execute_result"
    }
   ],
   "source": [
    "# simple function and calculation\n",
    "def area_triangle(base, height):\n",
    "    return base * height /2\n",
    "area_a = area_triangle(3,6)\n",
    "area_b = area_triangle(7,5)\n",
    "total_area = area_a + area_b\n",
    "total_area"
   ]
  },
  {
   "cell_type": "code",
   "execution_count": 16,
   "id": "263377a1",
   "metadata": {},
   "outputs": [
    {
     "data": {
      "text/plain": [
       "3930"
      ]
     },
     "execution_count": 16,
     "metadata": {},
     "output_type": "execute_result"
    }
   ],
   "source": [
    "def to_seconds(hours, minutes,seconds):\n",
    "    to_seconds = 3600 * hours + 60* minutes + seconds\n",
    "    return to_seconds\n",
    "to_seconds(1,5,30)"
   ]
  },
  {
   "cell_type": "code",
   "execution_count": 17,
   "id": "bf257088",
   "metadata": {},
   "outputs": [
    {
     "name": "stdout",
     "output_type": "stream",
     "text": [
      "Send email.\n"
     ]
    }
   ],
   "source": [
    "#conditional function\n",
    "def send_email(number_visits,visits_email):\n",
    "    if number_visits>=visits_email:\n",
    "        print('Send email.')\n",
    "    else:\n",
    "        print('Not enough visits.')\n",
    "send_email(number_visits =10,visits_email=5)"
   ]
  },
  {
   "cell_type": "code",
   "execution_count": 20,
   "id": "e58ad355",
   "metadata": {},
   "outputs": [
    {
     "name": "stdout",
     "output_type": "stream",
     "text": [
      "Not enough visits.\n",
      "Send email.\n",
      "Send email.\n",
      "Not enough visits.\n"
     ]
    }
   ],
   "source": [
    "send_email(number_visits=3, visits_email=5)    # Should print 'Not enough visits.'\n",
    "send_email(number_visits=5, visits_email=5)    # Should print 'Send email.'\n",
    "send_email(number_visits=15, visits_email=10)  # Should print 'Send email.'\n",
    "\n",
    "\n",
    "def send_email(num_visits,visits_email,visits_coupon):\n",
    "    if num_visits < visits_email:\n",
    "        print('Not enough visits.')\n",
    "    elif num_visits < visits_coupon:\n",
    "        print('Send email only.')\n",
    "    else:\n",
    "        print('Send email with coupon')\n",
    "send_email(num_visits=3, visits_email=5, visits_coupon=8) "
   ]
  },
  {
   "cell_type": "code",
   "execution_count": 21,
   "id": "68480b82",
   "metadata": {},
   "outputs": [
    {
     "name": "stdout",
     "output_type": "stream",
     "text": [
      "Not enough visits.\n",
      "Send email only.\n",
      "Send email only.\n",
      "Send email with coupon\n",
      "Send email with coupon\n"
     ]
    }
   ],
   "source": [
    "send_email(num_visits=3, visits_email=5, visits_coupon=8)   # Should print 'Not enough visits.'\n",
    "send_email(num_visits=5, visits_email=5, visits_coupon=8)   # Should print 'Send email only.'\n",
    "send_email(num_visits=6, visits_email=5, visits_coupon=8)   # Should print 'Send email only.'\n",
    "send_email(num_visits=8, visits_email=5, visits_coupon=8)   # Should print 'Send email with coupon.'\n",
    "send_email(num_visits=10, visits_email=5, visits_coupon=8)  # Should print 'Send email with coupon.'"
   ]
  },
  {
   "cell_type": "code",
   "execution_count": null,
   "id": "94e36c4f",
   "metadata": {},
   "outputs": [],
   "source": []
  }
 ],
 "metadata": {
  "kernelspec": {
   "display_name": "Python 3 (ipykernel)",
   "language": "python",
   "name": "python3"
  },
  "language_info": {
   "codemirror_mode": {
    "name": "ipython",
    "version": 3
   },
   "file_extension": ".py",
   "mimetype": "text/x-python",
   "name": "python",
   "nbconvert_exporter": "python",
   "pygments_lexer": "ipython3",
   "version": "3.10.9"
  }
 },
 "nbformat": 4,
 "nbformat_minor": 5
}
