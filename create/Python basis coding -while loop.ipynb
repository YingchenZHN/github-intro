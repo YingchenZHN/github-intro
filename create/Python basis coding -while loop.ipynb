{
 "cells": [
  {
   "cell_type": "code",
   "execution_count": 1,
   "id": "59aeeb49",
   "metadata": {},
   "outputs": [
    {
     "name": "stdout",
     "output_type": "stream",
     "text": [
      "to be continued, x =0\n",
      "x =1\n",
      "to be continued, x =1\n",
      "x =2\n",
      "to be continued, x =2\n",
      "x =3\n"
     ]
    }
   ],
   "source": [
    "# while loop\n",
    "x = 0\n",
    "while x < 3:\n",
    "    print('to be continued, x =' + str(x))\n",
    "    x = x+1\n",
    "    print('x =' + str(x))"
   ]
  },
  {
   "cell_type": "code",
   "execution_count": 2,
   "id": "08e77f21",
   "metadata": {},
   "outputs": [],
   "source": [
    "# import random function"
   ]
  },
  {
   "cell_type": "code",
   "execution_count": null,
   "id": "a002529e",
   "metadata": {},
   "outputs": [
    {
     "name": "stdout",
     "output_type": "stream",
     "text": [
      "Guess a number between 1 and 25\n"
     ]
    }
   ],
   "source": [
    "import random\n",
    "num = random.randint(1,25)\n",
    "num_guess = 0\n",
    "while num_guess < 5:\n",
    "    print('Guess a number between 1 and 25')\n",
    "    "
   ]
  },
  {
   "cell_type": "code",
   "execution_count": null,
   "id": "3c80e485",
   "metadata": {},
   "outputs": [],
   "source": []
  },
  {
   "cell_type": "code",
   "execution_count": null,
   "id": "c0223345",
   "metadata": {},
   "outputs": [],
   "source": []
  }
 ],
 "metadata": {
  "kernelspec": {
   "display_name": "Python 3 (ipykernel)",
   "language": "python",
   "name": "python3"
  },
  "language_info": {
   "codemirror_mode": {
    "name": "ipython",
    "version": 3
   },
   "file_extension": ".py",
   "mimetype": "text/x-python",
   "name": "python",
   "nbconvert_exporter": "python",
   "pygments_lexer": "ipython3",
   "version": "3.10.9"
  }
 },
 "nbformat": 4,
 "nbformat_minor": 5
}
